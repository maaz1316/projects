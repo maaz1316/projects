{
 "cells": [
  {
   "cell_type": "code",
   "execution_count": 4,
   "id": "667e12a6",
   "metadata": {},
   "outputs": [],
   "source": [
    "import tensorflow as tf\n",
    "import numpy as np\n",
    "\n",
    "def next_pred(a,b,c,d,e):\n",
    "    x = np.array([a,b,c,d,e])\n",
    "    x = x.reshape((1,5,1))\n",
    "    prediction = model.predict(x)\n",
    "    print(\"The prediction for tomorrow's price : \", np.squeeze(prediction))\n",
    "\n",
    "model = tf.keras.models.load_model('C:/Users/User/Desktop/FTI/Crude')"
   ]
  },
  {
   "cell_type": "code",
   "execution_count": 6,
   "id": "dc8e63a5",
   "metadata": {},
   "outputs": [
    {
     "name": "stdout",
     "output_type": "stream",
     "text": [
      "Enter Day(t) price:183.25\n",
      "Enter Day(t-1) price:180.98\n",
      "Enter Day(t-2) price:179.6\n",
      "Enter Day(t-3) price: 175.01\n",
      "The prediction for tomorrow's price :  178.7664\n"
     ]
    }
   ],
   "source": [
    "#Enter the previous time stamp values. D(t) represents the current day\n",
    "\n",
    "a = float(input('Enter Day(t) price:'))\n",
    "b = float(input('Enter Day(t-1) price:'))\n",
    "c = float(input('Enter Day(t-2) price:'))\n",
    "d = float(input('Enter Day(t-3) price: '))\n",
    "e = (a+b+c+d)/4\n",
    "\n",
    "next_pred(a,b,c,d,e)\n"
   ]
  }
 ],
 "metadata": {
  "kernelspec": {
   "display_name": "Python 3",
   "language": "python",
   "name": "python3"
  },
  "language_info": {
   "codemirror_mode": {
    "name": "ipython",
    "version": 3
   },
   "file_extension": ".py",
   "mimetype": "text/x-python",
   "name": "python",
   "nbconvert_exporter": "python",
   "pygments_lexer": "ipython3",
   "version": "3.9.2"
  }
 },
 "nbformat": 4,
 "nbformat_minor": 5
}
